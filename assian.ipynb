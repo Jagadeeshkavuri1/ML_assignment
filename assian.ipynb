{
  "nbformat": 4,
  "nbformat_minor": 0,
  "metadata": {
    "colab": {
      "provenance": [],
      "authorship_tag": "ABX9TyOz2zAElOxHkan2KZj6NUJf",
      "include_colab_link": true
    },
    "kernelspec": {
      "name": "python3",
      "display_name": "Python 3"
    },
    "language_info": {
      "name": "python"
    }
  },
  "cells": [
    {
      "cell_type": "markdown",
      "metadata": {
        "id": "view-in-github",
        "colab_type": "text"
      },
      "source": [
        "<a href=\"https://colab.research.google.com/github/Jagadeeshkavuri1/ML_assignment/blob/main/assian.ipynb\" target=\"_parent\"><img src=\"https://colab.research.google.com/assets/colab-badge.svg\" alt=\"Open In Colab\"/></a>"
      ]
    },
    {
      "cell_type": "markdown",
      "source": [
        "#1.arithmetic operations on NumPy arrays\n"
      ],
      "metadata": {
        "id": "VJlptzE86FbA"
      }
    },
    {
      "cell_type": "code",
      "execution_count": 69,
      "metadata": {
        "colab": {
          "base_uri": "https://localhost:8080/"
        },
        "id": "jPlSvopa2fh8",
        "outputId": "0a3cea8e-f6dd-4928-e3a6-270bcc65f94a"
      },
      "outputs": [
        {
          "output_type": "stream",
          "name": "stdout",
          "text": [
            "array_1 [5 6 7 8]\n",
            "array_2 [1 3 2 2]\n",
            "addition of two matrix is  [ 6  9  9 10]\n",
            "using add function [ 6  9  9 10]\n",
            "------------------------------------------\n",
            "subtraction of two matrix is  [4 3 5 6]\n",
            "using sub function [4 3 5 6]\n",
            "------------------------------------------\n",
            "multiplication of two matrix is  [ 5 18 14 16]\n",
            "using multiply function [ 5 18 14 16]\n",
            "------------------------------------------\n",
            "division of two matrix is  [5.  2.  3.5 4. ]\n",
            "using div function [5.  2.  3.5 4. ]\n",
            "------------------------------------------\n",
            "modulo of two matrix is  [0 0 1 0]\n",
            "using modulo function [0 0 1 0]\n",
            "------------------------------------------\n",
            "power  of two matrix is  [  5 216  49  64]\n",
            "using power function [  5 216  49  64]\n"
          ]
        }
      ],
      "source": [
        "import numpy as k\n",
        "a=k.array([5,6,7,8])\n",
        "b=k.array([1,3,2,2])\n",
        "print(\"array_1\",a)\n",
        "print(\"array_2\",b)\n",
        "print(\"addition of two matrix is \",a+b)\n",
        "print(\"using add function\",k.add(a,b))\n",
        "print(\"------------------------------------------\")\n",
        "print(\"subtraction of two matrix is \",a-b)\n",
        "print(\"using sub function\",k.subtract(a,b))\n",
        "print(\"------------------------------------------\")\n",
        "print(\"multiplication of two matrix is \",a*b)\n",
        "print(\"using multiply function\",k.multiply(a,b))\n",
        "print(\"------------------------------------------\")\n",
        "print(\"division of two matrix is \",a/b)\n",
        "print(\"using div function\",k.divide(a,b))\n",
        "print(\"------------------------------------------\")\n",
        "print(\"modulo of two matrix is \",a%b)\n",
        "print(\"using modulo function\",k.mod(a,b))\n",
        "print(\"------------------------------------------\")\n",
        "print(\"power  of two matrix is \",a**b)\n",
        "print(\"using power function\",k.power(a,b))\n",
        "\n",
        "\n",
        "\n",
        "\n"
      ]
    },
    {
      "cell_type": "markdown",
      "source": [
        "#3.NumPy array of integers from 10 to 50 with a step size of 5.\n"
      ],
      "metadata": {
        "id": "YvLutnN1VV_B"
      }
    },
    {
      "cell_type": "code",
      "source": [
        "import numpy as ka\n",
        "a1=ka.arange(10,50,5)\n",
        "print(a1)\n"
      ],
      "metadata": {
        "colab": {
          "base_uri": "https://localhost:8080/"
        },
        "id": "T02c-_HhJY0E",
        "outputId": "0924b307-46a3-4744-a220-026cd10ad752"
      },
      "execution_count": 29,
      "outputs": [
        {
          "output_type": "stream",
          "name": "stdout",
          "text": [
            "[10 15 20 25 30 35 40 45]\n"
          ]
        }
      ]
    },
    {
      "cell_type": "markdown",
      "source": [
        "#4.Reshape the array into a 2x4 matrix"
      ],
      "metadata": {
        "id": "t7tcVfRiZAqF"
      }
    },
    {
      "cell_type": "code",
      "source": [
        "import numpy as kb\n",
        "print(\"before reshape the array\")\n",
        "b1=kb.arange(10,50,5)\n",
        "print(b1)\n",
        "print(\"------------------------------------------\")\n",
        "print(\"after reshape the array\")\n",
        "a2=kb.arange(10,50,5).reshape(2,4)\n",
        "print(a2)\n"
      ],
      "metadata": {
        "colab": {
          "base_uri": "https://localhost:8080/"
        },
        "id": "We79QmPiY-51",
        "outputId": "c8860209-3ba9-441e-cb69-e60a38986dfa"
      },
      "execution_count": 30,
      "outputs": [
        {
          "output_type": "stream",
          "name": "stdout",
          "text": [
            "before reshape the array\n",
            "[10 15 20 25 30 35 40 45]\n",
            "------------------------------------------\n",
            "after reshape the array\n",
            "[[10 15 20 25]\n",
            " [30 35 40 45]]\n"
          ]
        }
      ]
    },
    {
      "cell_type": "markdown",
      "source": [
        "#5.\n",
        "##• Extract the sub-matrix containing the last two rows and first two columns"
      ],
      "metadata": {
        "id": "3H9LITzIbRjE"
      }
    },
    {
      "cell_type": "code",
      "source": [
        "import numpy as p\n",
        "arr = p.array([[1, 2, 3], [4, 5, 6], [7, 8, 9]]).reshape(3,3)\n",
        "print(\"before extracting\\n\",arr)\n",
        "print(\"Extract last two rows and first two columns\")\n",
        "a3=arr[1:,:2]\n",
        "print(a3)\n"
      ],
      "metadata": {
        "colab": {
          "base_uri": "https://localhost:8080/"
        },
        "id": "lEC4kS0OcNBS",
        "outputId": "9bb86128-761d-482b-9a0c-678ae3bb3c2e"
      },
      "execution_count": 37,
      "outputs": [
        {
          "output_type": "stream",
          "name": "stdout",
          "text": [
            "before extracting\n",
            " [[1 2 3]\n",
            " [4 5 6]\n",
            " [7 8 9]]\n",
            "Extract last two rows and first two columns\n",
            "[[4 5]\n",
            " [7 8]]\n"
          ]
        }
      ]
    },
    {
      "cell_type": "markdown",
      "source": [
        "##• Replace all elements greater than 4 with 0"
      ],
      "metadata": {
        "id": "dKIuT5XRd-ki"
      }
    },
    {
      "cell_type": "code",
      "source": [
        "print(\"before replace\\n\",a3)\n",
        "print(\"------------------------------------------\")\n",
        "print(\"after replace all elements greater than 4 with 0 \")\n",
        "a3[a3>4]=0\n",
        "print(a3)\n",
        "\n"
      ],
      "metadata": {
        "colab": {
          "base_uri": "https://localhost:8080/"
        },
        "id": "a7p3AZd6eLph",
        "outputId": "2698bd7e-f2a7-4ac0-e90a-1950ea595e6b"
      },
      "execution_count": 38,
      "outputs": [
        {
          "output_type": "stream",
          "name": "stdout",
          "text": [
            "before replace\n",
            " [[4 5]\n",
            " [7 8]]\n",
            "------------------------------------------\n",
            "after replace all elements greater than 4 with 0 \n",
            "[[4 0]\n",
            " [0 0]]\n"
          ]
        }
      ]
    },
    {
      "cell_type": "markdown",
      "source": [],
      "metadata": {
        "id": "CGJyICNkj1J2"
      }
    },
    {
      "cell_type": "markdown",
      "source": [
        "#6.Create two 1D arrays and Perform element-wise addition, multiplication, and division."
      ],
      "metadata": {
        "id": "vaFJkDgVjWuO"
      }
    },
    {
      "cell_type": "code",
      "source": [
        "import numpy as g\n",
        "c = g.array([4, 15, 12])\n",
        "d = g.array([2, 5, 6])\n",
        "print(\"array_1 : \",c,\"\\n array_2 : \",d)\n",
        "print(\"addtiton is \",c+d)\n",
        "print(\"multiplication \",c*d)\n",
        "print(\"division is \",c/d)\n"
      ],
      "metadata": {
        "colab": {
          "base_uri": "https://localhost:8080/"
        },
        "id": "twfxFfBNjraU",
        "outputId": "9b573012-9cbd-4fb3-8b1f-65a85948b081"
      },
      "execution_count": 40,
      "outputs": [
        {
          "output_type": "stream",
          "name": "stdout",
          "text": [
            "array_1 :  [ 4 15 12] \n",
            " array_2 :  [2 5 6]\n",
            "addtiton is  [ 6 20 18]\n",
            "multiplication  [ 8 75 72]\n",
            "division is  [2. 3. 2.]\n"
          ]
        }
      ]
    },
    {
      "cell_type": "markdown",
      "source": [
        "#7. Create a random NumPy array of size (4, 4). Compute:  \n",
        "##• Mean of each column.\n",
        "##• Maximum value of the entire array.\n",
        "##• Sum of all elements."
      ],
      "metadata": {
        "id": "eCaWfJoil_l7"
      }
    },
    {
      "cell_type": "code",
      "source": [
        "import numpy as np\n",
        "r_array = np.random.randint(1, 101, size=(4, 4))\n",
        "print(\"the random array is\\n\",r_array)\n",
        "print(\"------------------------------------------\")\n",
        "print(\"mean of the each column\\n\",np.mean(r_array,axis=0))\n",
        "print(\"------------------------------------------\")\n",
        "print(\"Maximum value of the entire array\\n\",np.max(r_array))\n",
        "print(\"------------------------------------------\")\n",
        "print(\"Sum of all elements\",np.sum(r_array))\n",
        "\n",
        "\n"
      ],
      "metadata": {
        "colab": {
          "base_uri": "https://localhost:8080/"
        },
        "id": "e0WzDTvVmny6",
        "outputId": "5479e27d-c5d1-4950-b253-889592bfbde1"
      },
      "execution_count": 56,
      "outputs": [
        {
          "output_type": "stream",
          "name": "stdout",
          "text": [
            "the random array is\n",
            " [[47 51 43 15]\n",
            " [32 89 46 54]\n",
            " [33 81  3  8]\n",
            " [78 70  4 11]]\n",
            "------------------------------------------\n",
            "mean of the each column\n",
            " [47.5  72.75 24.   22.  ]\n",
            "------------------------------------------\n",
            "Maximum value of the entire array\n",
            " 89\n",
            "------------------------------------------\n",
            "Sum of all elements 665\n"
          ]
        }
      ]
    },
    {
      "cell_type": "markdown",
      "source": [
        "#8.Given the array and add 10 to each element and multiply the result by 2."
      ],
      "metadata": {
        "id": "WLNivAnArVE2"
      }
    },
    {
      "cell_type": "code",
      "source": [
        "arr1 = np.array([1, 2, 3, 4])\n",
        "result = (arr1 + 10) * 2\n",
        "print(\"Original Array:\", arr1)\n",
        "print(\"Result after adding 10 and multiplying by 2:\", result)\n"
      ],
      "metadata": {
        "colab": {
          "base_uri": "https://localhost:8080/"
        },
        "id": "sCCBdcSZqxJX",
        "outputId": "7643a666-a2e1-4809-f208-94068dd724bc"
      },
      "execution_count": 59,
      "outputs": [
        {
          "output_type": "stream",
          "name": "stdout",
          "text": [
            "Original Array: [1 2 3 4]\n",
            "Result after adding 10 and multiplying by 2: [22 24 26 28]\n"
          ]
        }
      ]
    },
    {
      "cell_type": "markdown",
      "source": [
        "#9.Perform advanced slicing and indexing on a 3D array. Create a 3D NumPy array arr of shape (3, 4, 5) with random integers ranging from 1 to 10"
      ],
      "metadata": {
        "id": "q1aogPRtrq9V"
      }
    },
    {
      "cell_type": "code",
      "source": [
        "arr2 = np.random.randint(1, 101, size=(3, 4, 5))\n",
        "print(\"Original Array:\\n\", arr2)"
      ],
      "metadata": {
        "colab": {
          "base_uri": "https://localhost:8080/"
        },
        "id": "RVBqB6BgsJFV",
        "outputId": "e06a3b5f-5a12-4a00-92b8-4a6ce078e55e"
      },
      "execution_count": 60,
      "outputs": [
        {
          "output_type": "stream",
          "name": "stdout",
          "text": [
            "Original Array:\n",
            " [[[69 94 58 34 67]\n",
            "  [99 34 46 49 35]\n",
            "  [12  8 61 86 16]\n",
            "  [50 94 32 23 29]]\n",
            "\n",
            " [[37 72 86  5 81]\n",
            "  [78 85 60 29 91]\n",
            "  [73 41 49 71 79]\n",
            "  [56 84 28 19 13]]\n",
            "\n",
            " [[84 42 76 41  2]\n",
            "  [ 4 21 55 54 58]\n",
            "  [59 57 23 10 75]\n",
            "  [70  7  8 89 83]]]\n"
          ]
        }
      ]
    },
    {
      "cell_type": "markdown",
      "source": [
        "##• Extract the second \"layer\" (i.e., the second 2D array) in the first dimension.\n",
        "##• Extract the first two rows and the last three columns from each \"layer.\"\n",
        "##• Replace all elements divisible by 3 with -1."
      ],
      "metadata": {
        "id": "yDVU36vLr-IX"
      }
    },
    {
      "cell_type": "code",
      "source": [
        "#1. Extract the second \"layer\" in the first dimension\n",
        "second_layer = arr2[1, :, :]\n",
        "print(\"\\nSecond Layer:\\n\", second_layer)\n",
        "\n",
        "# 2. Extract the first two rows and the last three columns from each \"layer\"\n",
        "sub_array = arr2[:, :2, -3:]\n",
        "print(\"\\nFirst two rows and last three columns from each layer:\\n\", sub_array)\n",
        "\n",
        "# 3. Replace all elements divisible by 3 with -1\n",
        "arr2[arr2 % 3 == 0] = -1\n",
        "print(\"\\nArray after replacing elements divisible by 3 with -1:\\n\", arr2)\n"
      ],
      "metadata": {
        "colab": {
          "base_uri": "https://localhost:8080/"
        },
        "id": "_aWJIOKes6UX",
        "outputId": "87c355bc-1aee-4474-c96d-d38ea2c1f3c7"
      },
      "execution_count": 61,
      "outputs": [
        {
          "output_type": "stream",
          "name": "stdout",
          "text": [
            "\n",
            "Second Layer:\n",
            " [[37 72 86  5 81]\n",
            " [78 85 60 29 91]\n",
            " [73 41 49 71 79]\n",
            " [56 84 28 19 13]]\n",
            "\n",
            "First two rows and last three columns from each layer:\n",
            " [[[58 34 67]\n",
            "  [46 49 35]]\n",
            "\n",
            " [[86  5 81]\n",
            "  [60 29 91]]\n",
            "\n",
            " [[76 41  2]\n",
            "  [55 54 58]]]\n",
            "\n",
            "Array after replacing elements divisible by 3 with -1:\n",
            " [[[-1 94 58 34 67]\n",
            "  [-1 34 46 49 35]\n",
            "  [-1  8 61 86 16]\n",
            "  [50 94 32 23 29]]\n",
            "\n",
            " [[37 -1 86  5 -1]\n",
            "  [-1 85 -1 29 91]\n",
            "  [73 41 49 71 79]\n",
            "  [56 -1 28 19 13]]\n",
            "\n",
            " [[-1 -1 76 41  2]\n",
            "  [ 4 -1 55 -1 58]\n",
            "  [59 -1 23 10 -1]\n",
            "  [70  7  8 89 83]]]\n"
          ]
        }
      ]
    },
    {
      "cell_type": "markdown",
      "source": [
        "#10. Work with broadcasting and advanced operations in NumPy. Create a NumPy array arr of shape (3, 3) with random integers between  1 and 20.\n",
        "##• Subtract the mean of each row from its respective elements (row-wise normalization).\n",
        "##• Create a new array by squaring all the elements in arr.\n",
        "##• Find the indices of the top 3 maximum values in the entire array"
      ],
      "metadata": {
        "id": "2LJaycVutyek"
      }
    },
    {
      "cell_type": "code",
      "source": [
        "arr4 = np.random.randint(1, 21, size=(3, 3))\n",
        "print(\"Original Array (arr4):\\n\", arr4)\n",
        "row_means = np.mean(arr4, axis=1, keepdims=True)\n",
        "normalized_arr = arr4 - row_means\n",
        "print(\"\\nRow-wise Normalized Array (mean subtracted):\\n\", normalized_arr)\n",
        "\n",
        "# 3. Create a new array by squaring all the elements in arr4\n",
        "squared_arr = np.square(arr4)\n",
        "print(\"\\nArray with squared elements:\\n\", squared_arr)\n",
        "\n",
        "# 4. Find the indices of the top 3 maximum values in the entire array\n",
        "top_3_indices = np.unravel_index(np.argsort(arr4, axis=None)[-3:], arr4.shape)\n",
        "print(\"\\nIndices of the top 3 maximum values:\", top_3_indices)"
      ],
      "metadata": {
        "colab": {
          "base_uri": "https://localhost:8080/"
        },
        "id": "SB1zmzWB2U58",
        "outputId": "5b376c3f-7cf5-4220-d7f7-95296c7965d1"
      },
      "execution_count": 67,
      "outputs": [
        {
          "output_type": "stream",
          "name": "stdout",
          "text": [
            "Original Array (arr4):\n",
            " [[16  8  8]\n",
            " [ 8 15 18]\n",
            " [18 19 19]]\n",
            "\n",
            "Row-wise Normalized Array (mean subtracted):\n",
            " [[ 5.33333333 -2.66666667 -2.66666667]\n",
            " [-5.66666667  1.33333333  4.33333333]\n",
            " [-0.66666667  0.33333333  0.33333333]]\n",
            "\n",
            "Array with squared elements:\n",
            " [[256  64  64]\n",
            " [ 64 225 324]\n",
            " [324 361 361]]\n",
            "\n",
            "Indices of the top 3 maximum values: (array([2, 2, 2]), array([0, 1, 2]))\n"
          ]
        }
      ]
    },
    {
      "cell_type": "markdown",
      "source": [
        "#2. Write a script to compute the mean and standard deviation of a NumPy array."
      ],
      "metadata": {
        "id": "-Ca6jeYEEY6X"
      }
    },
    {
      "cell_type": "code",
      "source": [],
      "metadata": {
        "id": "XKLw8732ElF-"
      },
      "execution_count": null,
      "outputs": []
    }
  ]
}
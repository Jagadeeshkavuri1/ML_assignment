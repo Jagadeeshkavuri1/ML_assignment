{
  "nbformat": 4,
  "nbformat_minor": 0,
  "metadata": {
    "colab": {
      "provenance": [],
      "toc_visible": true,
      "include_colab_link": true
    },
    "kernelspec": {
      "name": "python3",
      "display_name": "Python 3"
    },
    "language_info": {
      "name": "python"
    }
  },
  "cells": [
    {
      "cell_type": "markdown",
      "metadata": {
        "id": "view-in-github",
        "colab_type": "text"
      },
      "source": [
        "<a href=\"https://colab.research.google.com/github/Jagadeeshkavuri1/ML_assignment/blob/main/assian.ipynb\" target=\"_parent\"><img src=\"https://colab.research.google.com/assets/colab-badge.svg\" alt=\"Open In Colab\"/></a>"
      ]
    },
    {
      "cell_type": "markdown",
      "source": [
        "#1)arithmetic operations on NumPy arrays\n"
      ],
      "metadata": {
        "id": "VJlptzE86FbA"
      }
    },
    {
      "cell_type": "code",
      "execution_count": 25,
      "metadata": {
        "colab": {
          "base_uri": "https://localhost:8080/"
        },
        "id": "jPlSvopa2fh8",
        "outputId": "baf1f49f-1792-4a6a-8344-c351048cb6c3"
      },
      "outputs": [
        {
          "output_type": "stream",
          "name": "stdout",
          "text": [
            "array_1 [5 6 7 8]\n",
            "array_2 [1 3 2 2]\n",
            "addition of two matrix is  [ 6  9  9 10]\n",
            "using add function [ 6  9  9 10]\n",
            "------------------------------------------\n",
            "subtraction of two matrix is  [4 3 5 6]\n",
            "using sub function [4 3 5 6]\n",
            "------------------------------------------\n",
            "multiplication of two matrix is  [ 5 18 14 16]\n",
            "using multiply function [ 5 18 14 16]\n",
            "------------------------------------------\n",
            "division of two matrix is  [5.  2.  3.5 4. ]\n",
            "using div function [5.  2.  3.5 4. ]\n",
            "------------------------------------------\n",
            "modulo of two matrix is  [0 0 1 0]\n",
            "using modulo function [0 0 1 0]\n",
            "------------------------------------------\n",
            "power  of two matrix is  [  5 216  49  64]\n",
            "using power function [  5 216  49  64]\n"
          ]
        }
      ],
      "source": [
        "import numpy as k\n",
        "a=k.array([5,6,7,8])\n",
        "b=k.array([1,3,2,2])\n",
        "print(\"array_1\",a)\n",
        "print(\"array_2\",b)\n",
        "print(\"addition of two matrix is \",a+b)\n",
        "print(\"using add function\",k.add(a,b))\n",
        "print(\"------------------------------------------\")\n",
        "print(\"subtraction of two matrix is \",a-b)\n",
        "print(\"using sub function\",k.subtract(a,b))\n",
        "print(\"------------------------------------------\")\n",
        "print(\"multiplication of two matrix is \",a*b)\n",
        "print(\"using multiply function\",k.multiply(a,b))\n",
        "print(\"------------------------------------------\")\n",
        "print(\"division of two matrix is \",a/b)\n",
        "print(\"using div function\",k.divide(a,b))\n",
        "print(\"------------------------------------------\")\n",
        "print(\"modulo of two matrix is \",a%b)\n",
        "print(\"using modulo function\",k.mod(a,b))\n",
        "print(\"------------------------------------------\")\n",
        "print(\"power  of two matrix is \",a**b)\n",
        "print(\"using power function\",k.power(a,b))\n",
        "\n",
        "\n",
        "\n",
        "\n"
      ]
    },
    {
      "cell_type": "markdown",
      "source": [
        "#2)Write a script to compute the mean and standard deviation of a NumPy array."
      ],
      "metadata": {
        "id": "-GYlxRqX88Yy"
      }
    },
    {
      "cell_type": "code",
      "source": [
        "ke=([1,2,3,4,5])\n",
        "print(\"mean of the array is \",k.mean(ke))\n",
        "print(\"standard devation is \",k.std(ke))"
      ],
      "metadata": {
        "colab": {
          "base_uri": "https://localhost:8080/"
        },
        "id": "JOWARF6f9El5",
        "outputId": "49ab794e-8aed-4871-bbe5-0aff69c839ca"
      },
      "execution_count": 26,
      "outputs": [
        {
          "output_type": "stream",
          "name": "stdout",
          "text": [
            "mean of the array is  3.0\n",
            "standard devation is  1.4142135623730951\n"
          ]
        }
      ]
    },
    {
      "cell_type": "markdown",
      "source": [
        "#3)NumPy array of integers from 10 to 50 with a step size of 5.\n"
      ],
      "metadata": {
        "id": "YvLutnN1VV_B"
      }
    },
    {
      "cell_type": "code",
      "source": [
        "import numpy as ka\n",
        "a1=ka.arange(10,51,5)\n",
        "print(a1)"
      ],
      "metadata": {
        "colab": {
          "base_uri": "https://localhost:8080/"
        },
        "id": "T02c-_HhJY0E",
        "outputId": "197eb01f-88e3-44ec-c2fb-98a5ec9e0990"
      },
      "execution_count": null,
      "outputs": [
        {
          "output_type": "stream",
          "name": "stdout",
          "text": [
            "[10 15 20 25 30 35 40 45 50]\n"
          ]
        }
      ]
    },
    {
      "cell_type": "markdown",
      "source": [
        "#4)Reshape the array into a 2x4 matrix"
      ],
      "metadata": {
        "id": "t7tcVfRiZAqF"
      }
    },
    {
      "cell_type": "code",
      "source": [
        "import numpy as kb\n",
        "print(\"before reshape the array\")\n",
        "b1=kb.arange(10,50,5)\n",
        "print(b1)\n",
        "print(\"------------------------------------------\")\n",
        "print(\"after reshape the array\")\n",
        "a2=kb.arange(10,50,5).reshape(2,4)\n",
        "print(a2)\n"
      ],
      "metadata": {
        "colab": {
          "base_uri": "https://localhost:8080/"
        },
        "id": "We79QmPiY-51",
        "outputId": "c8860209-3ba9-441e-cb69-e60a38986dfa"
      },
      "execution_count": null,
      "outputs": [
        {
          "output_type": "stream",
          "name": "stdout",
          "text": [
            "before reshape the array\n",
            "[10 15 20 25 30 35 40 45]\n",
            "------------------------------------------\n",
            "after reshape the array\n",
            "[[10 15 20 25]\n",
            " [30 35 40 45]]\n"
          ]
        }
      ]
    },
    {
      "cell_type": "markdown",
      "source": [
        "#5)\n"
      ],
      "metadata": {
        "id": "3H9LITzIbRjE"
      }
    },
    {
      "cell_type": "markdown",
      "source": [
        "##(i)Extract the sub-matrix containing the last two rows and first two columns"
      ],
      "metadata": {
        "id": "2S_DaEwv9nhC"
      }
    },
    {
      "cell_type": "code",
      "source": [
        "import numpy as p\n",
        "arr = p.array([[1, 2, 3], [4, 5, 6], [7, 8, 9]]).reshape(3,3)\n",
        "print(\"before extracting\\n\",arr)\n",
        "print(\"Extract last two rows and first two columns\")\n",
        "a3=arr[1:,:2]\n",
        "print(a3)\n"
      ],
      "metadata": {
        "colab": {
          "base_uri": "https://localhost:8080/"
        },
        "id": "lEC4kS0OcNBS",
        "outputId": "9bb86128-761d-482b-9a0c-678ae3bb3c2e"
      },
      "execution_count": null,
      "outputs": [
        {
          "output_type": "stream",
          "name": "stdout",
          "text": [
            "before extracting\n",
            " [[1 2 3]\n",
            " [4 5 6]\n",
            " [7 8 9]]\n",
            "Extract last two rows and first two columns\n",
            "[[4 5]\n",
            " [7 8]]\n"
          ]
        }
      ]
    },
    {
      "cell_type": "markdown",
      "source": [
        "##(ii)Replace all elements greater than 4 with 0"
      ],
      "metadata": {
        "id": "dKIuT5XRd-ki"
      }
    },
    {
      "cell_type": "code",
      "source": [
        "print(\"before replace\\n\",a3)\n",
        "print(\"------------------------------------------\")\n",
        "print(\"after replace all elements greater than 4 with 0 \")\n",
        "a3[a3>4]=0\n",
        "print(a3)\n",
        "\n"
      ],
      "metadata": {
        "colab": {
          "base_uri": "https://localhost:8080/"
        },
        "id": "a7p3AZd6eLph",
        "outputId": "2698bd7e-f2a7-4ac0-e90a-1950ea595e6b"
      },
      "execution_count": null,
      "outputs": [
        {
          "output_type": "stream",
          "name": "stdout",
          "text": [
            "before replace\n",
            " [[4 5]\n",
            " [7 8]]\n",
            "------------------------------------------\n",
            "after replace all elements greater than 4 with 0 \n",
            "[[4 0]\n",
            " [0 0]]\n"
          ]
        }
      ]
    },
    {
      "cell_type": "markdown",
      "source": [],
      "metadata": {
        "id": "CGJyICNkj1J2"
      }
    },
    {
      "cell_type": "markdown",
      "source": [
        "#6)Create two 1D arrays and Perform element-wise addition, multiplication, and division."
      ],
      "metadata": {
        "id": "vaFJkDgVjWuO"
      }
    },
    {
      "cell_type": "code",
      "source": [
        "import numpy as g\n",
        "c = g.array([4, 15, 12])\n",
        "d = g.array([2, 5, 6])\n",
        "print(\"array_1 : \",c,\"\\n array_2 : \",d)\n",
        "print(\"addtiton is \",c+d)\n",
        "print(\"multiplication \",c*d)\n",
        "print(\"division is \",c/d)\n"
      ],
      "metadata": {
        "colab": {
          "base_uri": "https://localhost:8080/"
        },
        "id": "twfxFfBNjraU",
        "outputId": "9b573012-9cbd-4fb3-8b1f-65a85948b081"
      },
      "execution_count": null,
      "outputs": [
        {
          "output_type": "stream",
          "name": "stdout",
          "text": [
            "array_1 :  [ 4 15 12] \n",
            " array_2 :  [2 5 6]\n",
            "addtiton is  [ 6 20 18]\n",
            "multiplication  [ 8 75 72]\n",
            "division is  [2. 3. 2.]\n"
          ]
        }
      ]
    },
    {
      "cell_type": "markdown",
      "source": [
        "#7. Create a random NumPy array of size (4, 4). Compute:  "
      ],
      "metadata": {
        "id": "eCaWfJoil_l7"
      }
    },
    {
      "cell_type": "code",
      "source": [
        "import numpy as np\n",
        "r_array = np.random.randint(1, 101, size=(4, 4))\n",
        "print(\"the random array is\\n\",r_array)"
      ],
      "metadata": {
        "colab": {
          "base_uri": "https://localhost:8080/"
        },
        "id": "e0WzDTvVmny6",
        "outputId": "61153c97-392a-4f6b-ce0b-b786ce9f2d6f"
      },
      "execution_count": 27,
      "outputs": [
        {
          "output_type": "stream",
          "name": "stdout",
          "text": [
            "the random array is\n",
            " [[53 53 58 92]\n",
            " [89 42 16 37]\n",
            " [57 85 32 32]\n",
            " [15 85 83 60]]\n"
          ]
        }
      ]
    },
    {
      "cell_type": "markdown",
      "source": [
        "##(i)Mean of each column.\n"
      ],
      "metadata": {
        "id": "_xgFnhFc-gTS"
      }
    },
    {
      "cell_type": "code",
      "source": [
        "print(\"mean of the each column\\n\",np.mean(r_array,axis=0))"
      ],
      "metadata": {
        "colab": {
          "base_uri": "https://localhost:8080/"
        },
        "id": "lO08piYt-xUa",
        "outputId": "cf032941-f2c4-4044-a9e9-885e174a1bf8"
      },
      "execution_count": 30,
      "outputs": [
        {
          "output_type": "stream",
          "name": "stdout",
          "text": [
            "mean of the each column\n",
            " [53.5  66.25 47.25 55.25]\n"
          ]
        }
      ]
    },
    {
      "cell_type": "markdown",
      "source": [],
      "metadata": {
        "id": "L_IhrYon-w7i"
      }
    },
    {
      "cell_type": "markdown",
      "source": [
        "##(ii)Maximum value of the entire array."
      ],
      "metadata": {
        "id": "RhF3y6pf_UEi"
      }
    },
    {
      "cell_type": "code",
      "source": [
        "print(\"Maximum value of the entire array\\n\",np.max(r_array))\n"
      ],
      "metadata": {
        "colab": {
          "base_uri": "https://localhost:8080/"
        },
        "id": "v--AlgUO_K3y",
        "outputId": "0ff541c6-9e6b-429c-8a38-18ca4aa23e5e"
      },
      "execution_count": 29,
      "outputs": [
        {
          "output_type": "stream",
          "name": "stdout",
          "text": [
            "Maximum value of the entire array\n",
            " 92\n"
          ]
        }
      ]
    },
    {
      "cell_type": "markdown",
      "source": [
        "##(iii) Sum of all elements."
      ],
      "metadata": {
        "id": "PlIL3XV0_Diz"
      }
    },
    {
      "cell_type": "code",
      "source": [
        "print(\"sum of all elements in array is\",np.sum(r_array))"
      ],
      "metadata": {
        "colab": {
          "base_uri": "https://localhost:8080/"
        },
        "id": "cqBi347V_hZK",
        "outputId": "e66cbc80-4b80-4a7b-8de1-cc5a483463cc"
      },
      "execution_count": 28,
      "outputs": [
        {
          "output_type": "stream",
          "name": "stdout",
          "text": [
            "sum of all elements in array is 889\n"
          ]
        }
      ]
    },
    {
      "cell_type": "markdown",
      "source": [
        "#8)Given the array and add 10 to each element and multiply the result by 2."
      ],
      "metadata": {
        "id": "WLNivAnArVE2"
      }
    },
    {
      "cell_type": "code",
      "source": [
        "arr1 = np.array([1, 2, 3, 4])\n",
        "result = (arr1 + 10) * 2\n",
        "print(\"Original Array:\", arr1)\n",
        "print(\"Result after adding 10 and multiplying by 2:\", result)\n"
      ],
      "metadata": {
        "colab": {
          "base_uri": "https://localhost:8080/"
        },
        "id": "sCCBdcSZqxJX",
        "outputId": "7643a666-a2e1-4809-f208-94068dd724bc"
      },
      "execution_count": null,
      "outputs": [
        {
          "output_type": "stream",
          "name": "stdout",
          "text": [
            "Original Array: [1 2 3 4]\n",
            "Result after adding 10 and multiplying by 2: [22 24 26 28]\n"
          ]
        }
      ]
    },
    {
      "cell_type": "markdown",
      "source": [
        "#9.Perform advanced slicing and indexing on a 3D array. Create a 3D NumPy array arr of shape (3, 4, 5) with random integers ranging from 1 to 10"
      ],
      "metadata": {
        "id": "q1aogPRtrq9V"
      }
    },
    {
      "cell_type": "code",
      "source": [
        "arr2 = np.random.randint(1, 101, size=(3, 4, 5))\n",
        "print(\"Original Array:\\n\", arr2)"
      ],
      "metadata": {
        "colab": {
          "base_uri": "https://localhost:8080/"
        },
        "id": "RVBqB6BgsJFV",
        "outputId": "b97c6766-1432-480b-feec-90e6bb58d4b0"
      },
      "execution_count": 31,
      "outputs": [
        {
          "output_type": "stream",
          "name": "stdout",
          "text": [
            "Original Array:\n",
            " [[[ 39  89 100  11  66]\n",
            "  [ 53  74  79   2  77]\n",
            "  [ 80  69  93  96  86]\n",
            "  [ 41  25  51  67  16]]\n",
            "\n",
            " [[ 77  48  94  51  72]\n",
            "  [ 77  21  49  52  44]\n",
            "  [ 22  82  82  94  41]\n",
            "  [ 23  75  91  52  84]]\n",
            "\n",
            " [[ 74  89   4  92  74]\n",
            "  [ 80   3  75  29  74]\n",
            "  [ 11  81  69  15  87]\n",
            "  [ 65  56   4  51  27]]]\n"
          ]
        }
      ]
    },
    {
      "cell_type": "markdown",
      "source": [
        "##(i)Extract the second \"layer\" (i.e., the second 2D array) in the first dimension.\n"
      ],
      "metadata": {
        "id": "yDVU36vLr-IX"
      }
    },
    {
      "cell_type": "code",
      "source": [
        "second_layer = arr2[1, :, :]\n",
        "print(\"\\nSecond Layer:\\n\", second_layer)"
      ],
      "metadata": {
        "colab": {
          "base_uri": "https://localhost:8080/"
        },
        "id": "_aWJIOKes6UX",
        "outputId": "3efb8bf5-8cc4-4794-8ca8-8a96e1e8ca65"
      },
      "execution_count": 32,
      "outputs": [
        {
          "output_type": "stream",
          "name": "stdout",
          "text": [
            "\n",
            "Second Layer:\n",
            " [[77 48 94 51 72]\n",
            " [77 21 49 52 44]\n",
            " [22 82 82 94 41]\n",
            " [23 75 91 52 84]]\n"
          ]
        }
      ]
    },
    {
      "cell_type": "markdown",
      "source": [
        "##(ii)Extract the first two rows and the last three columns from each \"layer.\"\n"
      ],
      "metadata": {
        "id": "nNItu5MTAkdT"
      }
    },
    {
      "cell_type": "code",
      "source": [
        "sub_array = arr2[:, :2, -3:]\n",
        "print(\"\\nFirst two rows and last three columns from each layer:\\n\", sub_array)"
      ],
      "metadata": {
        "colab": {
          "base_uri": "https://localhost:8080/"
        },
        "id": "fGEG9SWGBB6S",
        "outputId": "9e41f582-e8df-4d8f-aa7f-ebb99e96db3d"
      },
      "execution_count": 33,
      "outputs": [
        {
          "output_type": "stream",
          "name": "stdout",
          "text": [
            "\n",
            "First two rows and last three columns from each layer:\n",
            " [[[100  11  66]\n",
            "  [ 79   2  77]]\n",
            "\n",
            " [[ 94  51  72]\n",
            "  [ 49  52  44]]\n",
            "\n",
            " [[  4  92  74]\n",
            "  [ 75  29  74]]]\n"
          ]
        }
      ]
    },
    {
      "cell_type": "markdown",
      "source": [
        "##(iii)Replace all elements divisible by 3 with -1."
      ],
      "metadata": {
        "id": "f-z8kCfiAuSD"
      }
    },
    {
      "cell_type": "code",
      "source": [
        "arr2[arr2 % 3 == 0] = -1\n",
        "print(\"\\nArray after replacing elements divisible by 3 with -1:\\n\", arr2)"
      ],
      "metadata": {
        "colab": {
          "base_uri": "https://localhost:8080/"
        },
        "id": "qt3VBAV5BEPS",
        "outputId": "7b383388-b9b3-436b-ef4a-b6aa1399c62b"
      },
      "execution_count": 34,
      "outputs": [
        {
          "output_type": "stream",
          "name": "stdout",
          "text": [
            "\n",
            "Array after replacing elements divisible by 3 with -1:\n",
            " [[[ -1  89 100  11  -1]\n",
            "  [ 53  74  79   2  77]\n",
            "  [ 80  -1  -1  -1  86]\n",
            "  [ 41  25  -1  67  16]]\n",
            "\n",
            " [[ 77  -1  94  -1  -1]\n",
            "  [ 77  -1  49  52  44]\n",
            "  [ 22  82  82  94  41]\n",
            "  [ 23  -1  91  52  -1]]\n",
            "\n",
            " [[ 74  89   4  92  74]\n",
            "  [ 80  -1  -1  29  74]\n",
            "  [ 11  -1  -1  -1  -1]\n",
            "  [ 65  56   4  -1  -1]]]\n"
          ]
        }
      ]
    },
    {
      "cell_type": "markdown",
      "source": [
        "#10. Work with broadcasting and advanced operations in NumPy. Create a NumPy array arr of shape (3, 3) with random integers between  1 and 20.\n"
      ],
      "metadata": {
        "id": "2LJaycVutyek"
      }
    },
    {
      "cell_type": "code",
      "source": [
        "arr4 = np.random.randint(1, 21, size=(3, 3))\n",
        "print(\"Original Array (arr4):\\n\", arr4)"
      ],
      "metadata": {
        "colab": {
          "base_uri": "https://localhost:8080/"
        },
        "id": "SB1zmzWB2U58",
        "outputId": "5a030f8b-7a34-4547-8bbd-7feb4ffce8bb"
      },
      "execution_count": 43,
      "outputs": [
        {
          "output_type": "stream",
          "name": "stdout",
          "text": [
            "Original Array (arr4):\n",
            " [[ 9 19 12]\n",
            " [10 15 19]\n",
            " [17 18  5]]\n"
          ]
        }
      ]
    },
    {
      "cell_type": "markdown",
      "source": [
        "####(i)Subtract the mean of each row from its respective elements (row-wise normalization).\n"
      ],
      "metadata": {
        "id": "UBl8mhi4Dbsb"
      }
    },
    {
      "cell_type": "code",
      "source": [
        "print(\"Original Array (arr4):\\n\", arr4)\n",
        "row_means = np.mean(arr4, axis=1, keepdims=True)\n",
        "normalized_arr = arr4 - row_means\n",
        "print(\"\\nRow-wise Normalized Array (mean subtracted):\\n\", normalized_arr)"
      ],
      "metadata": {
        "id": "plHfXobTDtUC",
        "outputId": "8de6f44d-77e9-45a1-d640-b23b89ef796a",
        "colab": {
          "base_uri": "https://localhost:8080/"
        }
      },
      "execution_count": 42,
      "outputs": [
        {
          "output_type": "stream",
          "name": "stdout",
          "text": [
            "Original Array (arr4):\n",
            " [[18 16 17]\n",
            " [16  3  1]\n",
            " [ 1 13 10]]\n",
            "\n",
            "Row-wise Normalized Array (mean subtracted):\n",
            " [[ 1.         -1.          0.        ]\n",
            " [ 9.33333333 -3.66666667 -5.66666667]\n",
            " [-7.          5.          2.        ]]\n"
          ]
        }
      ]
    },
    {
      "cell_type": "markdown",
      "source": [
        "##(ii) Create a new array by squaring all the elements in arr.\n"
      ],
      "metadata": {
        "id": "KPzYhwtlDfXC"
      }
    },
    {
      "cell_type": "code",
      "source": [
        "print(\"Original Array (arr4):\\n\", arr4)\n",
        "squared_arr = np.square(arr4)\n",
        "print(\"\\nArray with squared elements:\\n\", squared_arr)"
      ],
      "metadata": {
        "id": "rpX8voKBDt0i",
        "outputId": "af6a7b7a-6ebf-4a41-9abc-679fd9f17d14",
        "colab": {
          "base_uri": "https://localhost:8080/"
        }
      },
      "execution_count": 41,
      "outputs": [
        {
          "output_type": "stream",
          "name": "stdout",
          "text": [
            "Original Array (arr4):\n",
            " [[18 16 17]\n",
            " [16  3  1]\n",
            " [ 1 13 10]]\n",
            "\n",
            "Array with squared elements:\n",
            " [[324 256 289]\n",
            " [256   9   1]\n",
            " [  1 169 100]]\n"
          ]
        }
      ]
    },
    {
      "cell_type": "markdown",
      "source": [
        "##(iii)Find the indices of the top 3 maximum values in the entire array"
      ],
      "metadata": {
        "id": "b3q0Tu2WDjAS"
      }
    },
    {
      "cell_type": "code",
      "source": [
        "print(\"Original Array (arr4):\\n\", arr4)\n",
        "d1=arr4.flatten()\n",
        "s2=np.argsort(d1)[6:]\n",
        "r2=s2//arr4.shape[1]\n",
        "g2=s2%arr4.shape[1]\n",
        "t3=list(zip(r2,g2))\n",
        "print(\"top 3 maximum values indicies :\\n\",t3)"
      ],
      "metadata": {
        "id": "9eSpuT5FDuMa",
        "outputId": "d9be6842-55ec-43c3-93b4-6c7964627499",
        "colab": {
          "base_uri": "https://localhost:8080/"
        }
      },
      "execution_count": 45,
      "outputs": [
        {
          "output_type": "stream",
          "name": "stdout",
          "text": [
            "Original Array (arr4):\n",
            " [[ 9 19 12]\n",
            " [10 15 19]\n",
            " [17 18  5]]\n",
            "top 3 maximum values indicies :\n",
            " [(2, 1), (0, 1), (1, 2)]\n"
          ]
        }
      ]
    }
  ]
}
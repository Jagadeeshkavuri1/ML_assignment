{
  "nbformat": 4,
  "nbformat_minor": 0,
  "metadata": {
    "colab": {
      "provenance": [],
      "authorship_tag": "ABX9TyM+DlscXAMi7fs8gqt8wwFw",
      "include_colab_link": true
    },
    "kernelspec": {
      "name": "python3",
      "display_name": "Python 3"
    },
    "language_info": {
      "name": "python"
    }
  },
  "cells": [
    {
      "cell_type": "markdown",
      "metadata": {
        "id": "view-in-github",
        "colab_type": "text"
      },
      "source": [
        "<a href=\"https://colab.research.google.com/github/Jagadeeshkavuri1/ML_assignment/blob/main/Untitled0.ipynb\" target=\"_parent\"><img src=\"https://colab.research.google.com/assets/colab-badge.svg\" alt=\"Open In Colab\"/></a>"
      ]
    },
    {
      "cell_type": "markdown",
      "source": [
        "#arithmetic operations on NumPy arrays\n"
      ],
      "metadata": {
        "id": "VJlptzE86FbA"
      }
    },
    {
      "cell_type": "code",
      "execution_count": 12,
      "metadata": {
        "colab": {
          "base_uri": "https://localhost:8080/"
        },
        "id": "jPlSvopa2fh8",
        "outputId": "79687b89-78c3-40db-f79a-f096a472cee8"
      },
      "outputs": [
        {
          "output_type": "stream",
          "name": "stdout",
          "text": [
            "addition of two matrix is  [ 6  9  9 10]\n",
            "subtraction of two matrix is  [4 3 5 6]\n",
            "multiplication of two matrix is  [ 5 18 14 16]\n",
            "division of two matrix is  [5.  2.  3.5 4. ]\n",
            "modulo of two matrix is  [0 0 1 0]\n",
            "power  of two matrix is  [  5 216  49  64]\n",
            "hi [30 32 34 36]\n",
            "8\n"
          ]
        },
        {
          "output_type": "execute_result",
          "data": {
            "text/plain": [
              "2.0"
            ]
          },
          "metadata": {},
          "execution_count": 12
        }
      ],
      "source": [
        "import numpy as k\n",
        "a=k.array([5,6,7,8])\n",
        "b=k.array([1,3,2,2])\n",
        "print(\"addition of two matrix is \",a+b)\n",
        "print(\"subtraction of two matrix is \",a-b)\n",
        "print(\"multiplication of two matrix is \",a*b)\n",
        "print(\"division of two matrix is \",a/b)\n",
        "print(\"modulo of two matrix is \",a%b)\n",
        "print(\"power  of two matrix is \",a**b)\n",
        "print(\"hi\",(a+10)*2)\n",
        "print(k.max(a))\n",
        "k.sum(b)\n",
        "k.mean(b)\n",
        "\n",
        "\n",
        "\n"
      ]
    }
  ]
}
{
  "nbformat": 4,
  "nbformat_minor": 0,
  "metadata": {
    "colab": {
      "provenance": [],
      "include_colab_link": true
    },
    "kernelspec": {
      "name": "python3",
      "display_name": "Python 3"
    },
    "language_info": {
      "name": "python"
    }
  },
  "cells": [
    {
      "cell_type": "markdown",
      "metadata": {
        "id": "view-in-github",
        "colab_type": "text"
      },
      "source": [
        "<a href=\"https://colab.research.google.com/github/Jagadeeshkavuri1/ML_assignment/blob/main/assianment-2.ipynb\" target=\"_parent\"><img src=\"https://colab.research.google.com/assets/colab-badge.svg\" alt=\"Open In Colab\"/></a>"
      ]
    },
    {
      "cell_type": "code",
      "source": [
        "import pandas as k"
      ],
      "metadata": {
        "id": "y4FsKgA8OnaZ"
      },
      "execution_count": 27,
      "outputs": []
    },
    {
      "cell_type": "markdown",
      "source": [
        "#(1) i) Create a Pandas DataFrame from the following dictionary:\n"
      ],
      "metadata": {
        "id": "fdRmTczPN7uo"
      }
    },
    {
      "cell_type": "code",
      "execution_count": 4,
      "metadata": {
        "colab": {
          "base_uri": "https://localhost:8080/"
        },
        "id": "cHyd4-rhN5zI",
        "outputId": "0365b18b-4db0-404e-f0d3-8d2d8fdce740"
      },
      "outputs": [
        {
          "output_type": "stream",
          "name": "stdout",
          "text": [
            "the dataframe of the give data is \n",
            "     Name  Age  Salary\n",
            "0  Alice   24   50000\n",
            "1    Bob   27   55000\n",
            "2  Carol   22   48000\n"
          ]
        }
      ],
      "source": [
        "data = {\n",
        "'Name': ['Alice', 'Bob', 'Carol'],\n",
        "'Age': [24, 27, 22],\n",
        "'Salary': [50000, 55000, 48000]\n",
        "}\n",
        "d=k.DataFrame(data)\n",
        "print(\"the dataframe of the give data is \\n\",d)\n"
      ]
    },
    {
      "cell_type": "markdown",
      "source": [
        "##(ii)Add a new column called Bonus which is 10% of the salary."
      ],
      "metadata": {
        "id": "oqE4E3jOPnLQ"
      }
    },
    {
      "cell_type": "code",
      "source": [
        "print(d)\n",
        "print(\"---------------------------\")\n",
        "d['Bonus'] = d['Salary'] * 0.10\n",
        "print(d)"
      ],
      "metadata": {
        "colab": {
          "base_uri": "https://localhost:8080/"
        },
        "id": "c3FfwKdqPxU5",
        "outputId": "8a50492a-ab52-459a-c17f-b935fd53906f"
      },
      "execution_count": 6,
      "outputs": [
        {
          "output_type": "stream",
          "name": "stdout",
          "text": [
            "    Name  Age  Salary\n",
            "0  Alice   24   50000\n",
            "1    Bob   27   55000\n",
            "2  Carol   22   48000\n",
            "---------------------------\n",
            "    Name  Age  Salary   Bonus\n",
            "0  Alice   24   50000  5000.0\n",
            "1    Bob   27   55000  5500.0\n",
            "2  Carol   22   48000  4800.0\n"
          ]
        }
      ]
    },
    {
      "cell_type": "markdown",
      "source": [
        "#2) Given the DataFrame created in the above question:\n"
      ],
      "metadata": {
        "id": "v7dz0itTvjDs"
      }
    },
    {
      "cell_type": "markdown",
      "source": [
        "##(i)Display the first two rows.\n"
      ],
      "metadata": {
        "id": "JYW5ne46wQ4U"
      }
    },
    {
      "cell_type": "code",
      "source": [
        "print(\"the dataframe is \\n\",d)\n",
        "print(\"the first two rows of the above data frame is \\n\")\n",
        "d1=d.head(2)\n",
        "print(d1)"
      ],
      "metadata": {
        "id": "Sxcsoa9BwcHl",
        "outputId": "fb36ca04-1e4c-4d08-fcb8-d8892b95bf97",
        "colab": {
          "base_uri": "https://localhost:8080/"
        }
      },
      "execution_count": 7,
      "outputs": [
        {
          "output_type": "stream",
          "name": "stdout",
          "text": [
            "the dataframe is \n",
            "     Name  Age  Salary   Bonus\n",
            "0  Alice   24   50000  5000.0\n",
            "1    Bob   27   55000  5500.0\n",
            "2  Carol   22   48000  4800.0\n",
            "the first two rows of the above data frame is \n",
            "\n",
            "    Name  Age  Salary   Bonus\n",
            "0  Alice   24   50000  5000.0\n",
            "1    Bob   27   55000  5500.0\n"
          ]
        }
      ]
    },
    {
      "cell_type": "markdown",
      "source": [
        "##(ii)Compute the mean salary"
      ],
      "metadata": {
        "id": "8LnFQYRywXaU"
      }
    },
    {
      "cell_type": "code",
      "source": [
        "print(\"the dataframe is \\n\",d)\n",
        "m_sal=d['Salary'].mean()\n",
        "print(\"mean of the salary is : \",m_sal)"
      ],
      "metadata": {
        "id": "WezzCAYrwGTd",
        "outputId": "61340a3c-4c6d-450c-b65a-60b1a96d045c",
        "colab": {
          "base_uri": "https://localhost:8080/"
        }
      },
      "execution_count": 9,
      "outputs": [
        {
          "output_type": "stream",
          "name": "stdout",
          "text": [
            "the dataframe is \n",
            "     Name  Age  Salary   Bonus\n",
            "0  Alice   24   50000  5000.0\n",
            "1    Bob   27   55000  5500.0\n",
            "2  Carol   22   48000  4800.0\n",
            "mean of the salary is :  51000.0\n"
          ]
        }
      ]
    },
    {
      "cell_type": "markdown",
      "source": [
        "#3) Using the same DataFrame:"
      ],
      "metadata": {
        "id": "LGyMNXCCzN26"
      }
    },
    {
      "cell_type": "markdown",
      "source": [
        "##(i) Extract all rows where the Age is greater than 25.\n"
      ],
      "metadata": {
        "id": "ktuwQ5QCzDG6"
      }
    },
    {
      "cell_type": "code",
      "source": [
        "print(\"the dataframe is \\n\",d)\n",
        "grea_age=d[d['Age']>25]\n",
        "print(\"age is greatther than 25 is \\n\",grea_age)"
      ],
      "metadata": {
        "id": "G5qkkqEEzSJZ",
        "outputId": "63db6946-2109-4a78-fbe7-b14ea23d82c8",
        "colab": {
          "base_uri": "https://localhost:8080/"
        }
      },
      "execution_count": 10,
      "outputs": [
        {
          "output_type": "stream",
          "name": "stdout",
          "text": [
            "the dataframe is \n",
            "     Name  Age  Salary   Bonus\n",
            "0  Alice   24   50000  5000.0\n",
            "1    Bob   27   55000  5500.0\n",
            "2  Carol   22   48000  4800.0\n",
            "age is greatther than 25 is \n",
            "   Name  Age  Salary   Bonus\n",
            "1  Bob   27   55000  5500.0\n"
          ]
        }
      ]
    },
    {
      "cell_type": "markdown",
      "source": [
        "##(ii) Filter out rows where the Salary is less than 50000."
      ],
      "metadata": {
        "id": "J1P20eAIzKgJ"
      }
    },
    {
      "cell_type": "code",
      "source": [
        "print(\"the dataframe is \\n\",d)\n",
        "sal=d[d['Salary']<50000]\n",
        "print(\"salary is lesser than 50000 is \\n\",sal)"
      ],
      "metadata": {
        "id": "8Pii2olCzSr5",
        "outputId": "45288a96-ad60-41e5-e9de-178124b84324",
        "colab": {
          "base_uri": "https://localhost:8080/"
        }
      },
      "execution_count": 11,
      "outputs": [
        {
          "output_type": "stream",
          "name": "stdout",
          "text": [
            "the dataframe is \n",
            "     Name  Age  Salary   Bonus\n",
            "0  Alice   24   50000  5000.0\n",
            "1    Bob   27   55000  5500.0\n",
            "2  Carol   22   48000  4800.0\n",
            "salary is lesser than 50000 is \n",
            "     Name  Age  Salary   Bonus\n",
            "2  Carol   22   48000  4800.0\n"
          ]
        }
      ]
    },
    {
      "cell_type": "markdown",
      "source": [
        "#4) Create the following DataFrame:\n"
      ],
      "metadata": {
        "id": "hVFy_SUW1I35"
      }
    },
    {
      "cell_type": "code",
      "source": [
        "data1 = {\n",
        "'A': [1, 2, None, 4],\n",
        "'B': [None, 2, 3, None],\n",
        "'C': [1, 2, 3, 4]\n",
        "}\n",
        "d2=k.DataFrame(data1)\n",
        "d1=d2\n",
        "print(\"the dataframe is\\n\\n \",d2)"
      ],
      "metadata": {
        "id": "XsLas4hH1VWg",
        "outputId": "62fa3c96-e7c8-445a-b54f-0ac4e0e799dd",
        "colab": {
          "base_uri": "https://localhost:8080/"
        }
      },
      "execution_count": 12,
      "outputs": [
        {
          "output_type": "stream",
          "name": "stdout",
          "text": [
            "the dataframe is\n",
            "\n",
            "       A    B  C\n",
            "0  1.0  NaN  1\n",
            "1  2.0  2.0  2\n",
            "2  NaN  3.0  3\n",
            "3  4.0  NaN  4\n"
          ]
        }
      ]
    },
    {
      "cell_type": "markdown",
      "source": [
        "##(i) Fill missing values in column A with the mean of the column."
      ],
      "metadata": {
        "id": "liHdQh8s13LY"
      }
    },
    {
      "cell_type": "code",
      "source": [
        "print(\"origiinal dataframe is\\n :\",d1)\n",
        "d2['A'] = d2['A'].fillna(d2['A'].mean())\n",
        "print(d2)"
      ],
      "metadata": {
        "id": "NZiRt8huW4bX",
        "outputId": "eaa24088-27dc-4a0e-e54e-07f98250898d",
        "colab": {
          "base_uri": "https://localhost:8080/"
        }
      },
      "execution_count": 13,
      "outputs": [
        {
          "output_type": "stream",
          "name": "stdout",
          "text": [
            "origiinal dataframe is\n",
            " :      A    B  C\n",
            "0  1.0  NaN  1\n",
            "1  2.0  2.0  2\n",
            "2  NaN  3.0  3\n",
            "3  4.0  NaN  4\n",
            "          A    B  C\n",
            "0  1.000000  NaN  1\n",
            "1  2.000000  2.0  2\n",
            "2  2.333333  3.0  3\n",
            "3  4.000000  NaN  4\n"
          ]
        }
      ]
    },
    {
      "cell_type": "markdown",
      "source": [
        "##(ii)Drop rows where all values are None."
      ],
      "metadata": {
        "id": "nNJ9TK-uaN8c"
      }
    },
    {
      "cell_type": "code",
      "source": [
        "print('original dataframe is\\n ',d1)\n",
        "d_drop_col = d2.dropna(how='all')\n",
        "print(\"remove the all none rows of dataframe \\n \")\n",
        "print(d_drop_col)\n"
      ],
      "metadata": {
        "id": "d_Kj4LP5aXSF",
        "outputId": "e24de964-1649-4b27-a256-605cff6cd712",
        "colab": {
          "base_uri": "https://localhost:8080/"
        }
      },
      "execution_count": 14,
      "outputs": [
        {
          "output_type": "stream",
          "name": "stdout",
          "text": [
            "original dataframe is\n",
            "            A    B  C\n",
            "0  1.000000  NaN  1\n",
            "1  2.000000  2.0  2\n",
            "2  2.333333  3.0  3\n",
            "3  4.000000  NaN  4\n",
            "remove the all none rows of dataframe \n",
            " \n",
            "          A    B  C\n",
            "0  1.000000  NaN  1\n",
            "1  2.000000  2.0  2\n",
            "2  2.333333  3.0  3\n",
            "3  4.000000  NaN  4\n"
          ]
        }
      ]
    },
    {
      "cell_type": "markdown",
      "source": [
        "#(5) Create a DataFrame for employees"
      ],
      "metadata": {
        "id": "sTvQWMYYcTYU"
      }
    },
    {
      "cell_type": "code",
      "source": [
        "data3 = {\n",
        "'Department': ['HR', 'HR', 'IT', 'IT', 'Finance'],\n",
        "'Employee': ['Alice', 'Bob', 'Carol', 'David', 'Eve'],\n",
        "'Salary': [50000, 45000, 60000, 65000, 70000]\n",
        "}\n",
        "d4=k.DataFrame(data3)\n",
        "print(\"the dataframe of the data is \")\n",
        "print(d4)"
      ],
      "metadata": {
        "id": "Jk-Ic2i_cd56",
        "outputId": "34d76209-eb1a-494a-890a-8fd401f3aeb8",
        "colab": {
          "base_uri": "https://localhost:8080/"
        }
      },
      "execution_count": 15,
      "outputs": [
        {
          "output_type": "stream",
          "name": "stdout",
          "text": [
            "the dataframe of the data is \n",
            "  Department Employee  Salary\n",
            "0         HR    Alice   50000\n",
            "1         HR      Bob   45000\n",
            "2         IT    Carol   60000\n",
            "3         IT    David   65000\n",
            "4    Finance      Eve   70000\n"
          ]
        }
      ]
    },
    {
      "cell_type": "markdown",
      "source": [
        "##i) Group the data by Department and compute the total and mean salary for each department."
      ],
      "metadata": {
        "id": "XVDHPaqGdTlk"
      }
    },
    {
      "cell_type": "code",
      "source": [
        "grouped = d4.groupby('Department')['Salary'].agg(['sum', 'mean'])\n",
        "\n",
        "print(grouped)\n"
      ],
      "metadata": {
        "id": "AUh95IVNddbz",
        "outputId": "81758e54-98b6-4ecc-f7d0-c7ec56b9887a",
        "colab": {
          "base_uri": "https://localhost:8080/"
        }
      },
      "execution_count": 16,
      "outputs": [
        {
          "output_type": "stream",
          "name": "stdout",
          "text": [
            "               sum     mean\n",
            "Department                 \n",
            "Finance      70000  70000.0\n",
            "HR           95000  47500.0\n",
            "IT          125000  62500.0\n"
          ]
        }
      ]
    },
    {
      "cell_type": "markdown",
      "source": [
        "#(6)Perform an inner join on the ID column.  Given two DataFrames"
      ],
      "metadata": {
        "id": "NhHpHa57eYrK"
      }
    },
    {
      "cell_type": "code",
      "source": [
        "df1 = k.DataFrame({'ID': [1, 2, 3], 'Name': ['Alice', 'Bob', 'Carol']})\n",
        "print(\"the first dataframe is \\n\",df1)\n",
        "\n",
        "df2 = k.DataFrame({'ID': [2, 3, 4], 'Age': [25, 30, 22]})\n",
        "print(\"the second dataframes is \\n\",df2)\n",
        "m=k.merge(df1,df2,how='inner',on='ID')\n",
        "print(\"after perform inner join \\n\",m)"
      ],
      "metadata": {
        "id": "1TINq5HbfMy2",
        "outputId": "91d5e3e5-dfb9-4242-ae97-f4412e79247a",
        "colab": {
          "base_uri": "https://localhost:8080/"
        }
      },
      "execution_count": 17,
      "outputs": [
        {
          "output_type": "stream",
          "name": "stdout",
          "text": [
            "the first dataframe is \n",
            "    ID   Name\n",
            "0   1  Alice\n",
            "1   2    Bob\n",
            "2   3  Carol\n",
            "the second dataframes is \n",
            "    ID  Age\n",
            "0   2   25\n",
            "1   3   30\n",
            "2   4   22\n",
            "after perform inner join \n",
            "    ID   Name  Age\n",
            "0   2    Bob   25\n",
            "1   3  Carol   30\n"
          ]
        }
      ]
    },
    {
      "cell_type": "markdown",
      "source": [
        "#(7)Given a small dataset, clean and display basic statistics using Pandas."
      ],
      "metadata": {
        "id": "XwcgOKJHhYEO"
      }
    },
    {
      "cell_type": "code",
      "source": [
        "import pandas as pd\n",
        "data9 = {\n",
        "    'Name': ['Alice', 'Bob', 'Carol'],\n",
        "    'Age': [25, 30, None],\n",
        "    'Salary': [50000, 55000, 60000],\n",
        "    'Department': ['HR', 'IT', 'Finance']\n",
        "}\n",
        "df9 = pd.DataFrame(data9)\n",
        "\n",
        "print(\"Original DataFrame:\")\n",
        "print(df9)\n",
        "df9['Age'] = df9['Age'].fillna(df9['Age'].mean())\n",
        "\n",
        "df9 = df9.drop_duplicates()\n",
        "\n",
        "print(\"\\nDataFrame after cleaning:\")\n",
        "print(df9)\n",
        "print(\"\\nBasic Statistics:\")\n",
        "print(df9.describe())\n",
        "\n",
        "print(\"\\nDataFrame Info:\")\n",
        "df9.info()\n",
        "\n"
      ],
      "metadata": {
        "id": "ULFQ4iVthXvg",
        "outputId": "f92aa6d3-61b8-401b-ce1a-8e308a08c7e4",
        "colab": {
          "base_uri": "https://localhost:8080/"
        }
      },
      "execution_count": 19,
      "outputs": [
        {
          "output_type": "stream",
          "name": "stdout",
          "text": [
            "Original DataFrame:\n",
            "    Name   Age  Salary Department\n",
            "0  Alice  25.0   50000         HR\n",
            "1    Bob  30.0   55000         IT\n",
            "2  Carol   NaN   60000    Finance\n",
            "\n",
            "DataFrame after cleaning:\n",
            "    Name   Age  Salary Department\n",
            "0  Alice  25.0   50000         HR\n",
            "1    Bob  30.0   55000         IT\n",
            "2  Carol  27.5   60000    Finance\n",
            "\n",
            "Basic Statistics:\n",
            "         Age   Salary\n",
            "count   3.00      3.0\n",
            "mean   27.50  55000.0\n",
            "std     2.50   5000.0\n",
            "min    25.00  50000.0\n",
            "25%    26.25  52500.0\n",
            "50%    27.50  55000.0\n",
            "75%    28.75  57500.0\n",
            "max    30.00  60000.0\n",
            "\n",
            "DataFrame Info:\n",
            "<class 'pandas.core.frame.DataFrame'>\n",
            "RangeIndex: 3 entries, 0 to 2\n",
            "Data columns (total 4 columns):\n",
            " #   Column      Non-Null Count  Dtype  \n",
            "---  ------      --------------  -----  \n",
            " 0   Name        3 non-null      object \n",
            " 1   Age         3 non-null      float64\n",
            " 2   Salary      3 non-null      int64  \n",
            " 3   Department  3 non-null      object \n",
            "dtypes: float64(1), int64(1), object(2)\n",
            "memory usage: 224.0+ bytes\n"
          ]
        }
      ]
    },
    {
      "cell_type": "markdown",
      "source": [
        "#(8) small EDA task"
      ],
      "metadata": {
        "id": "TjRtPttRl3SP"
      }
    },
    {
      "cell_type": "markdown",
      "source": [
        "##(i)Load the Titanic dataset (titanic.csv) into a Pandas DataFrame"
      ],
      "metadata": {
        "id": "SdD49LeLztNL"
      }
    },
    {
      "cell_type": "code",
      "source": [
        "p1=k.read_csv('/content/Titanic-Dataset (1).csv')\n",
        "p2=k.DataFrame(p1)\n",
        "print(\"the titanic dataframe is \\n\",p2)"
      ],
      "metadata": {
        "id": "xlqU8V7T0vr4",
        "outputId": "3f4c1597-b152-4ba1-bfe1-8d8f5bd1d0a8",
        "colab": {
          "base_uri": "https://localhost:8080/"
        }
      },
      "execution_count": 32,
      "outputs": [
        {
          "output_type": "stream",
          "name": "stdout",
          "text": [
            "the titanic dataframe is \n",
            "      PassengerId  Survived  Pclass  \\\n",
            "0              1         0       3   \n",
            "1              2         1       1   \n",
            "2              3         1       3   \n",
            "3              4         1       1   \n",
            "4              5         0       3   \n",
            "..           ...       ...     ...   \n",
            "886          887         0       2   \n",
            "887          888         1       1   \n",
            "888          889         0       3   \n",
            "889          890         1       1   \n",
            "890          891         0       3   \n",
            "\n",
            "                                                  Name     Sex   Age  SibSp  \\\n",
            "0                              Braund, Mr. Owen Harris    male  22.0      1   \n",
            "1    Cumings, Mrs. John Bradley (Florence Briggs Th...  female  38.0      1   \n",
            "2                               Heikkinen, Miss. Laina  female  26.0      0   \n",
            "3         Futrelle, Mrs. Jacques Heath (Lily May Peel)  female  35.0      1   \n",
            "4                             Allen, Mr. William Henry    male  35.0      0   \n",
            "..                                                 ...     ...   ...    ...   \n",
            "886                              Montvila, Rev. Juozas    male  27.0      0   \n",
            "887                       Graham, Miss. Margaret Edith  female  19.0      0   \n",
            "888           Johnston, Miss. Catherine Helen \"Carrie\"  female   NaN      1   \n",
            "889                              Behr, Mr. Karl Howell    male  26.0      0   \n",
            "890                                Dooley, Mr. Patrick    male  32.0      0   \n",
            "\n",
            "     Parch            Ticket     Fare Cabin Embarked  \n",
            "0        0         A/5 21171   7.2500   NaN        S  \n",
            "1        0          PC 17599  71.2833   C85        C  \n",
            "2        0  STON/O2. 3101282   7.9250   NaN        S  \n",
            "3        0            113803  53.1000  C123        S  \n",
            "4        0            373450   8.0500   NaN        S  \n",
            "..     ...               ...      ...   ...      ...  \n",
            "886      0            211536  13.0000   NaN        S  \n",
            "887      0            112053  30.0000   B42        S  \n",
            "888      2        W./C. 6607  23.4500   NaN        S  \n",
            "889      0            111369  30.0000  C148        C  \n",
            "890      0            370376   7.7500   NaN        Q  \n",
            "\n",
            "[891 rows x 12 columns]\n"
          ]
        }
      ]
    },
    {
      "cell_type": "markdown",
      "source": [
        "##(ii)Perform the following tasks:\n"
      ],
      "metadata": {
        "id": "87bD4fdwz3iQ"
      }
    },
    {
      "cell_type": "markdown",
      "source": [
        "##1.Display the number of missing values in each column."
      ],
      "metadata": {
        "id": "fgnh4QV80PoI"
      }
    },
    {
      "cell_type": "code",
      "source": [],
      "metadata": {
        "id": "im70yxyf0uGI"
      },
      "execution_count": null,
      "outputs": []
    },
    {
      "cell_type": "markdown",
      "source": [
        "##2.Find the average age of passengers."
      ],
      "metadata": {
        "id": "3yA7STxZ0aFA"
      }
    },
    {
      "cell_type": "code",
      "source": [],
      "metadata": {
        "id": "NyPsHYy90rWc"
      },
      "execution_count": null,
      "outputs": []
    },
    {
      "cell_type": "markdown",
      "source": [
        "##3.Create a bar plot to show the survival rate based on gender."
      ],
      "metadata": {
        "id": "_FxT6On70ghY"
      }
    },
    {
      "cell_type": "code",
      "source": [],
      "metadata": {
        "id": "WcOrJJQVm1sT"
      },
      "execution_count": null,
      "outputs": []
    },
    {
      "cell_type": "markdown",
      "source": [
        "#(9)Data Transformation Load a dataset containing daily temperatures and dates. Perform the following:\n"
      ],
      "metadata": {
        "id": "xTy9SRJMm2YD"
      }
    },
    {
      "cell_type": "code",
      "source": [
        "data5 = {\n",
        "    'Date': ['2024-12-01', '2024-12-02', '2024-12-03', '2024-12-04', '2024-12-05'],\n",
        "    'Temperature': [30, 25, 18, 35, 22]\n",
        "}\n",
        "g4=k.DataFrame(data5)\n",
        "print(g4)"
      ],
      "metadata": {
        "id": "npgohiEinPs5",
        "outputId": "247a9174-a98f-48d1-817c-e6b3016260f9",
        "colab": {
          "base_uri": "https://localhost:8080/"
        }
      },
      "execution_count": 20,
      "outputs": [
        {
          "output_type": "stream",
          "name": "stdout",
          "text": [
            "         Date  Temperature\n",
            "0  2024-12-01           30\n",
            "1  2024-12-02           25\n",
            "2  2024-12-03           18\n",
            "3  2024-12-04           35\n",
            "4  2024-12-05           22\n"
          ]
        }
      ]
    },
    {
      "cell_type": "markdown",
      "source": [
        "##(i) Convert the date column into a DateTime object.\n"
      ],
      "metadata": {
        "id": "O9Uh-gimnAoS"
      }
    },
    {
      "cell_type": "code",
      "source": [
        "print(\"the dataframe is\\n \",g4)\n",
        "g4['Date'] = k.to_datetime(g4['Date'])\n",
        "print(\"after convert date colum into datatime object\\n\")\n",
        "print(g4)"
      ],
      "metadata": {
        "id": "rwjrmNodvSNt",
        "outputId": "4ce5c263-7083-4a53-a0c6-fa455b005ada",
        "colab": {
          "base_uri": "https://localhost:8080/"
        }
      },
      "execution_count": 21,
      "outputs": [
        {
          "output_type": "stream",
          "name": "stdout",
          "text": [
            "the dataframe is\n",
            "           Date  Temperature\n",
            "0  2024-12-01           30\n",
            "1  2024-12-02           25\n",
            "2  2024-12-03           18\n",
            "3  2024-12-04           35\n",
            "4  2024-12-05           22\n",
            "after convert date colum into datatime object\n",
            "\n",
            "        Date  Temperature\n",
            "0 2024-12-01           30\n",
            "1 2024-12-02           25\n",
            "2 2024-12-03           18\n",
            "3 2024-12-04           35\n",
            "4 2024-12-05           22\n"
          ]
        }
      ]
    },
    {
      "cell_type": "markdown",
      "source": [
        "##(ii)o Create a new column that categorizes temperatures into High, Medium, or Low."
      ],
      "metadata": {
        "id": "WS9UUjcRnIiU"
      }
    },
    {
      "cell_type": "code",
      "source": [
        "def categorize_temperature(temp):\n",
        "    if temp >= 30:\n",
        "        return 'High'\n",
        "    elif temp >= 20:\n",
        "        return 'Medium'\n",
        "    else:\n",
        "        return 'Low'\n",
        "\n",
        "g4['Temperature Category'] = g4['Temperature'].apply(categorize_temperature)\n",
        "print(\"after addiing column \")\n",
        "print(g4)"
      ],
      "metadata": {
        "id": "6JRvKkMRwQn1",
        "outputId": "56c3ce9d-1536-430f-d199-c4db78273bed",
        "colab": {
          "base_uri": "https://localhost:8080/"
        }
      },
      "execution_count": 22,
      "outputs": [
        {
          "output_type": "stream",
          "name": "stdout",
          "text": [
            "after addiing column \n",
            "        Date  Temperature Temperature Category\n",
            "0 2024-12-01           30                 High\n",
            "1 2024-12-02           25               Medium\n",
            "2 2024-12-03           18                  Low\n",
            "3 2024-12-04           35                 High\n",
            "4 2024-12-05           22               Medium\n"
          ]
        }
      ]
    }
  ]
}
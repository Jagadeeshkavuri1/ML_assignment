{
  "nbformat": 4,
  "nbformat_minor": 0,
  "metadata": {
    "colab": {
      "provenance": [],
      "include_colab_link": true
    },
    "kernelspec": {
      "name": "python3",
      "display_name": "Python 3"
    },
    "language_info": {
      "name": "python"
    }
  },
  "cells": [
    {
      "cell_type": "markdown",
      "metadata": {
        "id": "view-in-github",
        "colab_type": "text"
      },
      "source": [
        "<a href=\"https://colab.research.google.com/github/Jagadeeshkavuri1/ML_assignment/blob/main/assianment-2.ipynb\" target=\"_parent\"><img src=\"https://colab.research.google.com/assets/colab-badge.svg\" alt=\"Open In Colab\"/></a>"
      ]
    },
    {
      "cell_type": "code",
      "source": [
        "import pandas as k"
      ],
      "metadata": {
        "id": "y4FsKgA8OnaZ"
      },
      "execution_count": 4,
      "outputs": []
    },
    {
      "cell_type": "markdown",
      "source": [
        "#(1) i) Create a Pandas DataFrame from the following dictionary:\n"
      ],
      "metadata": {
        "id": "fdRmTczPN7uo"
      }
    },
    {
      "cell_type": "code",
      "execution_count": 15,
      "metadata": {
        "colab": {
          "base_uri": "https://localhost:8080/"
        },
        "id": "cHyd4-rhN5zI",
        "outputId": "2b6147ad-6828-473e-a7b1-19e627bfce24"
      },
      "outputs": [
        {
          "output_type": "stream",
          "name": "stdout",
          "text": [
            "the dataframe of the give data is \n",
            "     Name  Age  Salary\n",
            "0  Alice   24   50000\n",
            "1    Bob   27   55000\n",
            "2  Carol   22   48000\n"
          ]
        }
      ],
      "source": [
        "data = {\n",
        "'Name': ['Alice', 'Bob', 'Carol'],\n",
        "'Age': [24, 27, 22],\n",
        "'Salary': [50000, 55000, 48000]\n",
        "}\n",
        "d=k.DataFrame(data)\n",
        "print(\"the dataframe of the give data is \\n\",d)\n"
      ]
    },
    {
      "cell_type": "markdown",
      "source": [
        "##(ii)Add a new column called Bonus which is 10% of the salary."
      ],
      "metadata": {
        "id": "oqE4E3jOPnLQ"
      }
    },
    {
      "cell_type": "code",
      "source": [
        "print(d)\n",
        "print(\"---------------------------\")\n",
        "df['Bonus'] = df['Salary'] * 0.10\n",
        "print(d)"
      ],
      "metadata": {
        "colab": {
          "base_uri": "https://localhost:8080/"
        },
        "id": "c3FfwKdqPxU5",
        "outputId": "fa0a9d44-a965-4f85-c6af-c21051cb09cf"
      },
      "execution_count": 16,
      "outputs": [
        {
          "output_type": "stream",
          "name": "stdout",
          "text": [
            "    Name  Age  Salary\n",
            "0  Alice   24   50000\n",
            "1    Bob   27   55000\n",
            "2  Carol   22   48000\n",
            "---------------------------\n",
            "    Name  Age  Salary\n",
            "0  Alice   24   50000\n",
            "1    Bob   27   55000\n",
            "2  Carol   22   48000\n"
          ]
        }
      ]
    },
    {
      "cell_type": "markdown",
      "source": [
        "#2) Given the DataFrame created in the above question:\n"
      ],
      "metadata": {
        "id": "v7dz0itTvjDs"
      }
    },
    {
      "cell_type": "markdown",
      "source": [
        "##(i)Display the first two rows.\n"
      ],
      "metadata": {
        "id": "JYW5ne46wQ4U"
      }
    },
    {
      "cell_type": "code",
      "source": [
        "print(\"the dataframe is \\n\",d)\n",
        "print(\"the first two rows of the above data frame is \\n\")\n",
        "d1=d.head(2)\n",
        "print(d1)"
      ],
      "metadata": {
        "id": "Sxcsoa9BwcHl",
        "outputId": "ea77cc9a-64e5-4fef-d9cb-d0756e9ed20d",
        "colab": {
          "base_uri": "https://localhost:8080/"
        }
      },
      "execution_count": 19,
      "outputs": [
        {
          "output_type": "stream",
          "name": "stdout",
          "text": [
            "the dataframe is \n",
            "     Name  Age  Salary\n",
            "0  Alice   24   50000\n",
            "1    Bob   27   55000\n",
            "2  Carol   22   48000\n",
            "the first two rows of the above data frame is \n",
            "\n",
            "    Name  Age  Salary\n",
            "0  Alice   24   50000\n",
            "1    Bob   27   55000\n"
          ]
        }
      ]
    },
    {
      "cell_type": "markdown",
      "source": [
        "##(ii)Compute the mean salary"
      ],
      "metadata": {
        "id": "8LnFQYRywXaU"
      }
    },
    {
      "cell_type": "code",
      "source": [
        "print(\"the dataframe is \\n\",d)\n",
        "m_sal=d['Salary'].mean()\n",
        "print(\"mean of the salary is : \",m_sal)"
      ],
      "metadata": {
        "id": "WezzCAYrwGTd",
        "outputId": "a24ec7d6-0731-4c2a-c9b5-3858243efc12",
        "colab": {
          "base_uri": "https://localhost:8080/"
        }
      },
      "execution_count": 22,
      "outputs": [
        {
          "output_type": "stream",
          "name": "stdout",
          "text": [
            "the dataframe is \n",
            "     Name  Age  Salary\n",
            "0  Alice   24   50000\n",
            "1    Bob   27   55000\n",
            "2  Carol   22   48000\n",
            "mean of the salary is :  51000.0\n"
          ]
        }
      ]
    },
    {
      "cell_type": "markdown",
      "source": [
        "#3) Using the same DataFrame:"
      ],
      "metadata": {
        "id": "LGyMNXCCzN26"
      }
    },
    {
      "cell_type": "markdown",
      "source": [
        "##(i) Extract all rows where the Age is greater than 25.\n"
      ],
      "metadata": {
        "id": "ktuwQ5QCzDG6"
      }
    },
    {
      "cell_type": "code",
      "source": [
        "print(\"the dataframe is \\n\",d)\n",
        "grea_age=d[d['Age']>25]\n",
        "print(\"age is greatther than 25 is \\n\",grea_age)"
      ],
      "metadata": {
        "id": "G5qkkqEEzSJZ",
        "outputId": "46692da3-ec39-40e1-bb41-dd2fe1f923c0",
        "colab": {
          "base_uri": "https://localhost:8080/"
        }
      },
      "execution_count": 27,
      "outputs": [
        {
          "output_type": "stream",
          "name": "stdout",
          "text": [
            "the dataframe is \n",
            "     Name  Age  Salary\n",
            "0  Alice   24   50000\n",
            "1    Bob   27   55000\n",
            "2  Carol   22   48000\n",
            "age is greatther than 25 is \n",
            "   Name  Age  Salary\n",
            "1  Bob   27   55000\n"
          ]
        }
      ]
    },
    {
      "cell_type": "markdown",
      "source": [
        "##(ii) Filter out rows where the Salary is less than 50000."
      ],
      "metadata": {
        "id": "J1P20eAIzKgJ"
      }
    },
    {
      "cell_type": "code",
      "source": [
        "print(\"the dataframe is \\n\",d)\n",
        "sal=d[d['Salary']<50000]\n",
        "print(\"salary is lesser than 50000 is \\n\",sal)"
      ],
      "metadata": {
        "id": "8Pii2olCzSr5",
        "outputId": "5e800d57-d2b6-42bc-9c6c-1055f5784a1f",
        "colab": {
          "base_uri": "https://localhost:8080/"
        }
      },
      "execution_count": 29,
      "outputs": [
        {
          "output_type": "stream",
          "name": "stdout",
          "text": [
            "the dataframe is \n",
            "     Name  Age  Salary\n",
            "0  Alice   24   50000\n",
            "1    Bob   27   55000\n",
            "2  Carol   22   48000\n",
            "salary is lesser than 50000 is \n",
            "     Name  Age  Salary\n",
            "2  Carol   22   48000\n"
          ]
        }
      ]
    },
    {
      "cell_type": "markdown",
      "source": [
        "#4) Create the following DataFrame:\n",
        ""
      ],
      "metadata": {
        "id": "hVFy_SUW1I35"
      }
    },
    {
      "cell_type": "code",
      "source": [
        "data1 = {\n",
        "'A': [1, 2, None, 4],\n",
        "'B': [None, 2, 3, None],\n",
        "'C': [1, 2, 3, 4]\n",
        "}\n",
        "d2=k.DataFrame(data1)\n",
        "d1=d2\n",
        "print(\"the dataframe is\\n\\n \",d2)"
      ],
      "metadata": {
        "id": "XsLas4hH1VWg",
        "outputId": "27cb8731-0b1a-4fcb-c47a-36b1141596f4",
        "colab": {
          "base_uri": "https://localhost:8080/"
        }
      },
      "execution_count": 19,
      "outputs": [
        {
          "output_type": "stream",
          "name": "stdout",
          "text": [
            "the dataframe is\n",
            "\n",
            "       A    B  C\n",
            "0  1.0  NaN  1\n",
            "1  2.0  2.0  2\n",
            "2  NaN  3.0  3\n",
            "3  4.0  NaN  4\n"
          ]
        }
      ]
    },
    {
      "cell_type": "markdown",
      "source": [
        "##(i) Fill missing values in column A with the mean of the column."
      ],
      "metadata": {
        "id": "liHdQh8s13LY"
      }
    },
    {
      "cell_type": "code",
      "source": [
        "print(\"origiinal dataframe is\\n :\",d1)\n",
        "d2['A'] = d2['A'].fillna(d2['A'].mean())\n",
        "print(d2)"
      ],
      "metadata": {
        "id": "NZiRt8huW4bX",
        "outputId": "985c7861-6d74-45b5-bce7-49aa3e7266e3",
        "colab": {
          "base_uri": "https://localhost:8080/"
        }
      },
      "execution_count": 20,
      "outputs": [
        {
          "output_type": "stream",
          "name": "stdout",
          "text": [
            "origiinal dataframe is\n",
            " :      A    B  C\n",
            "0  1.0  NaN  1\n",
            "1  2.0  2.0  2\n",
            "2  NaN  3.0  3\n",
            "3  4.0  NaN  4\n",
            "          A    B  C\n",
            "0  1.000000  NaN  1\n",
            "1  2.000000  2.0  2\n",
            "2  2.333333  3.0  3\n",
            "3  4.000000  NaN  4\n"
          ]
        }
      ]
    },
    {
      "cell_type": "markdown",
      "source": [
        "##(ii)Drop rows where all values are None."
      ],
      "metadata": {
        "id": "nNJ9TK-uaN8c"
      }
    },
    {
      "cell_type": "code",
      "source": [
        "print('original dataframe is\\n ',d1)\n",
        "d_drop_col = d2.dropna(how='all')\n",
        "print(\"remove the all none rows of dataframe \\n \")\n",
        "print(d_drop_col)\n"
      ],
      "metadata": {
        "id": "d_Kj4LP5aXSF",
        "outputId": "862cefe5-dad5-4217-c14c-5ac223be6870",
        "colab": {
          "base_uri": "https://localhost:8080/"
        }
      },
      "execution_count": 23,
      "outputs": [
        {
          "output_type": "stream",
          "name": "stdout",
          "text": [
            "original dataframe is\n",
            "            A    B  C\n",
            "0  1.000000  NaN  1\n",
            "1  2.000000  2.0  2\n",
            "2  2.333333  3.0  3\n",
            "3  4.000000  NaN  4\n",
            "remove the all none rows of dataframe \n",
            " \n",
            "          A    B  C\n",
            "0  1.000000  NaN  1\n",
            "1  2.000000  2.0  2\n",
            "2  2.333333  3.0  3\n",
            "3  4.000000  NaN  4\n"
          ]
        }
      ]
    },
    {
      "cell_type": "markdown",
      "source": [
        "#(5) Create a DataFrame for employees"
      ],
      "metadata": {
        "id": "sTvQWMYYcTYU"
      }
    },
    {
      "cell_type": "code",
      "source": [
        "data3 = {\n",
        "'Department': ['HR', 'HR', 'IT', 'IT', 'Finance'],\n",
        "'Employee': ['Alice', 'Bob', 'Carol', 'David', 'Eve'],\n",
        "'Salary': [50000, 45000, 60000, 65000, 70000]\n",
        "}\n",
        "d4=k.DataFrame(data3)\n",
        "print(\"the dataframe of the data is \")\n",
        "print(d4)"
      ],
      "metadata": {
        "id": "Jk-Ic2i_cd56",
        "outputId": "b37922e8-34f9-4096-8c03-d32b687f263f",
        "colab": {
          "base_uri": "https://localhost:8080/"
        }
      },
      "execution_count": 24,
      "outputs": [
        {
          "output_type": "stream",
          "name": "stdout",
          "text": [
            "the dataframe of the data is \n",
            "  Department Employee  Salary\n",
            "0         HR    Alice   50000\n",
            "1         HR      Bob   45000\n",
            "2         IT    Carol   60000\n",
            "3         IT    David   65000\n",
            "4    Finance      Eve   70000\n"
          ]
        }
      ]
    },
    {
      "cell_type": "markdown",
      "source": [
        "##i) Group the data by Department and compute the total and mean salary for each department."
      ],
      "metadata": {
        "id": "XVDHPaqGdTlk"
      }
    },
    {
      "cell_type": "code",
      "source": [
        "grouped = d4.groupby('Department')['Salary'].agg(['sum', 'mean'])\n",
        "\n",
        "print(grouped)\n"
      ],
      "metadata": {
        "id": "AUh95IVNddbz",
        "outputId": "a3208d88-54cd-4367-c555-e15817445385",
        "colab": {
          "base_uri": "https://localhost:8080/"
        }
      },
      "execution_count": 25,
      "outputs": [
        {
          "output_type": "stream",
          "name": "stdout",
          "text": [
            "               sum     mean\n",
            "Department                 \n",
            "Finance      70000  70000.0\n",
            "HR           95000  47500.0\n",
            "IT          125000  62500.0\n"
          ]
        }
      ]
    },
    {
      "cell_type": "markdown",
      "source": [
        "#(6)Perform an inner join on the ID column.  Given two DataFrames"
      ],
      "metadata": {
        "id": "NhHpHa57eYrK"
      }
    },
    {
      "cell_type": "code",
      "source": [
        "df1 = k.DataFrame({'ID': [1, 2, 3], 'Name': ['Alice', 'Bob', 'Carol']})\n",
        "print(\"the first dataframe is \\n\",df1)\n",
        "\n",
        "df2 = k.DataFrame({'ID': [2, 3, 4], 'Age': [25, 30, 22]})\n",
        "print(\"the second dataframes is \\n\",df2)\n",
        "m=k.merge(df1,df2,how='inner',on='ID')\n",
        "print(\"after perform inner join \\n\",m)"
      ],
      "metadata": {
        "id": "1TINq5HbfMy2",
        "outputId": "7b9fc9d8-db08-4dec-814a-4cceec5f1d52",
        "colab": {
          "base_uri": "https://localhost:8080/"
        }
      },
      "execution_count": 28,
      "outputs": [
        {
          "output_type": "stream",
          "name": "stdout",
          "text": [
            "the first dataframe is \n",
            "    ID   Name\n",
            "0   1  Alice\n",
            "1   2    Bob\n",
            "2   3  Carol\n",
            "the second dataframes is \n",
            "    ID  Age\n",
            "0   2   25\n",
            "1   3   30\n",
            "2   4   22\n",
            "after perform inner join \n",
            "    ID   Name  Age\n",
            "0   2    Bob   25\n",
            "1   3  Carol   30\n"
          ]
        }
      ]
    },
    {
      "cell_type": "markdown",
      "source": [
        "#(7)Given a small dataset, clean and display basic statistics using Pandas."
      ],
      "metadata": {
        "id": "XwcgOKJHhYEO"
      }
    },
    {
      "cell_type": "code",
      "source": [
        "data9 = {\n",
        "    'Name': ['Alice', 'Bob', 'Carol'],\n",
        "    'Age': [25, 30, None],\n",
        "    'Salary': [50000, 55000, 60000],\n",
        "    'Department': ['HR', 'IT', 'Finance']\n",
        "}\n",
        "df9 = k.DataFrame(data9)\n",
        "print(\"Original DataFrame:\")\n",
        "print(df9)\n",
        "df9['Age'].fillna(df9['Age'].mean(), inplace=True)\n",
        "df9.drop_duplicates(inplace=True)\n",
        "print(\"\\nDataFrame after cleaning:\")\n",
        "print(df9)\n",
        "print(\"\\nBasic Statistics:\")\n",
        "print(df9.describe())\n",
        "print(\"\\nDataFrame Info:\")\n",
        "print(df9.info())\n"
      ],
      "metadata": {
        "id": "ULFQ4iVthXvg",
        "outputId": "d300e8b2-65ef-4d49-dc85-3eb3203db5f4",
        "colab": {
          "base_uri": "https://localhost:8080/"
        }
      },
      "execution_count": 29,
      "outputs": [
        {
          "output_type": "stream",
          "name": "stdout",
          "text": [
            "Original DataFrame:\n",
            "    Name   Age  Salary Department\n",
            "0  Alice  25.0   50000         HR\n",
            "1    Bob  30.0   55000         IT\n",
            "2  Carol   NaN   60000    Finance\n",
            "\n",
            "DataFrame after cleaning:\n",
            "    Name   Age  Salary Department\n",
            "0  Alice  25.0   50000         HR\n",
            "1    Bob  30.0   55000         IT\n",
            "2  Carol  27.5   60000    Finance\n",
            "\n",
            "Basic Statistics:\n",
            "         Age   Salary\n",
            "count   3.00      3.0\n",
            "mean   27.50  55000.0\n",
            "std     2.50   5000.0\n",
            "min    25.00  50000.0\n",
            "25%    26.25  52500.0\n",
            "50%    27.50  55000.0\n",
            "75%    28.75  57500.0\n",
            "max    30.00  60000.0\n",
            "\n",
            "DataFrame Info:\n",
            "<class 'pandas.core.frame.DataFrame'>\n",
            "RangeIndex: 3 entries, 0 to 2\n",
            "Data columns (total 4 columns):\n",
            " #   Column      Non-Null Count  Dtype  \n",
            "---  ------      --------------  -----  \n",
            " 0   Name        3 non-null      object \n",
            " 1   Age         3 non-null      float64\n",
            " 2   Salary      3 non-null      int64  \n",
            " 3   Department  3 non-null      object \n",
            "dtypes: float64(1), int64(1), object(2)\n",
            "memory usage: 224.0+ bytes\n",
            "None\n"
          ]
        },
        {
          "output_type": "stream",
          "name": "stderr",
          "text": [
            "<ipython-input-29-676f051f5e81>:10: FutureWarning: A value is trying to be set on a copy of a DataFrame or Series through chained assignment using an inplace method.\n",
            "The behavior will change in pandas 3.0. This inplace method will never work because the intermediate object on which we are setting values always behaves as a copy.\n",
            "\n",
            "For example, when doing 'df[col].method(value, inplace=True)', try using 'df.method({col: value}, inplace=True)' or df[col] = df[col].method(value) instead, to perform the operation inplace on the original object.\n",
            "\n",
            "\n",
            "  df9['Age'].fillna(df9['Age'].mean(), inplace=True)\n"
          ]
        }
      ]
    },
    {
      "cell_type": "markdown",
      "source": [
        "#(8)"
      ],
      "metadata": {
        "id": "TjRtPttRl3SP"
      }
    },
    {
      "cell_type": "code",
      "source": [],
      "metadata": {
        "id": "WcOrJJQVm1sT"
      },
      "execution_count": null,
      "outputs": []
    },
    {
      "cell_type": "markdown",
      "source": [
        "#(9)Data Transformation Load a dataset containing daily temperatures and dates. Perform the following:\n",
        ""
      ],
      "metadata": {
        "id": "xTy9SRJMm2YD"
      }
    },
    {
      "cell_type": "code",
      "source": [
        "data5 = {\n",
        "    'Date': ['2024-12-01', '2024-12-02', '2024-12-03', '2024-12-04', '2024-12-05'],\n",
        "    'Temperature': [30, 25, 18, 35, 22]\n",
        "}\n",
        "g4=k.DataFrame(data5)\n",
        "print(g4)"
      ],
      "metadata": {
        "id": "npgohiEinPs5",
        "outputId": "28ba496e-d446-4adc-83f9-dc70ff734b55",
        "colab": {
          "base_uri": "https://localhost:8080/"
        }
      },
      "execution_count": 30,
      "outputs": [
        {
          "output_type": "stream",
          "name": "stdout",
          "text": [
            "         Date  Temperature\n",
            "0  2024-12-01           30\n",
            "1  2024-12-02           25\n",
            "2  2024-12-03           18\n",
            "3  2024-12-04           35\n",
            "4  2024-12-05           22\n"
          ]
        }
      ]
    },
    {
      "cell_type": "markdown",
      "source": [
        "##(i) Convert the date column into a DateTime object.\n"
      ],
      "metadata": {
        "id": "O9Uh-gimnAoS"
      }
    },
    {
      "cell_type": "markdown",
      "source": [
        "##(ii)o Create a new column that categorizes temperatures into High, Medium, or Low."
      ],
      "metadata": {
        "id": "WS9UUjcRnIiU"
      }
    }
  ]
}